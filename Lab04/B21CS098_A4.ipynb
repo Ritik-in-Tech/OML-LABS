{
 "cells": [
  {
   "cell_type": "markdown",
   "metadata": {},
   "source": [
    "### Constants and Imports\n"
   ]
  },
  {
   "cell_type": "code",
   "execution_count": null,
   "metadata": {},
   "outputs": [],
   "source": [
    "import pandas as pd\n",
    "import numpy as np\n",
    "import matplotlib.pyplot as plt\n",
    "import xlrd\n",
    "R=98  # Last two digit of rollNumber\n",
    "r=8  # Last Digit of rollNumber\n",
    "W=70  # Weight "
   ]
  },
  {
   "cell_type": "markdown",
   "metadata": {},
   "source": [
    "#### Question1\n"
   ]
  },
  {
   "cell_type": "code",
   "execution_count": null,
   "metadata": {},
   "outputs": [],
   "source": [
    "class solution:\n",
    "  def __init__( self) :\n",
    "    pass\n",
    "  def fit_polynomial( self , x , y , p ) :\n",
    "    x = x.astype(np.float64) \n",
    "    n = len(x)\n",
    "    A = np.ones((len(x) , 1 ) )\n",
    "    for i in range( 1 , p + 1 ) :\n",
    "      A = np.column_stack((A , x**i ))\n",
    "    A_t_A = np.dot(A.T , A )\n",
    "    A_t = A.T\n",
    "    y_t = y.T\n",
    "    A_t_dot_y_t = np.dot(A.T,y.T)\n",
    "    beta = np.dot( np.linalg.inv(A_t_A) , A_t_dot_y_t)\n",
    "    beta = beta.reshape(1 , -1 )[0]\n",
    "    return beta\n",
    "  def get_loss(self , y_pred , y ) :\n",
    "    sum = 0\n",
    "    for i in range(len(y)) :\n",
    "      sum += (y_pred[i] - y[i])**2\n",
    "    sum = sum/2\n",
    "    return sum\n",
    "  def get_prediction( self , x , y , i ) :\n",
    "    return np.dot(beta , np.vander( x , i +1 , increasing = True).T)\n",
    "  \n",
    "\n",
    "data = pd.read_excel('regr.xlsx')\n",
    "data.at[0, 'rating'] = R / 10\n",
    "B = data.values\n",
    "x,y = B[:,0], B[:,1]\n",
    "\n",
    "l = []\n",
    "for i in range(1,51):\n",
    "    soln = solution()\n",
    "    beta = soln.fit_polynomial(x,y,i)\n",
    "    y_pred = soln.get_prediction( x, y , i  )\n",
    "    loss = soln.get_loss( y_pred , y )\n",
    "    # print(\"Loss for degree \" , i , \"is\" , loss)\n",
    "    l.append(loss)\n",
    "\n",
    "plt.plot(range(1,51),l)\n",
    "plt.xlabel('Degree of polynomial')\n",
    "plt.ylabel('Loss')\n",
    "plt.show()\n",
    "\n",
    "min_loss_degree = np.argmin(l) + 1\n",
    "print(f'Minimum loss for degree {min_loss_degree}: {l[min_loss_degree - 1]}')\n",
    "print()\n"
   ]
  },
  {
   "cell_type": "markdown",
   "metadata": {},
   "source": [
    "### Question2\n"
   ]
  },
  {
   "cell_type": "code",
   "execution_count": null,
   "metadata": {},
   "outputs": [],
   "source": [
    "df = pd.read_csv('./training_dataSUB.csv')\n",
    "X = df.iloc[:, :2].values   \n",
    "Y = df.iloc[:,2].values\n",
    "X = np.hstack((np.ones((X.shape[0], 1)), X))\n",
    "theta = np.linalg.inv(X.T @ X) @ X.T @ Y\n",
    "v1 = 10.25 * R\n",
    "v2 = R + 10\n",
    "X_new = np.array([1, v1, v2])\n",
    "predicted_result = X_new @ theta\n",
    "\n",
    "print(f\"Predicted Result for (Value1=10.25R, Value2=R+10): {predicted_result}\")"
   ]
  },
  {
   "cell_type": "markdown",
   "metadata": {},
   "source": [
    "### Question3\n"
   ]
  },
  {
   "cell_type": "code",
   "execution_count": null,
   "metadata": {},
   "outputs": [],
   "source": [
    "def sigmoid(z):\n",
    "    return 1 / (1 + np.exp(-z))\n",
    "\n",
    "def compute_cost(X, Y, theta):\n",
    "    m = len(Y)\n",
    "    predictions = sigmoid(X @ theta)\n",
    "    cost = - (1/m) * np.sum(Y * np.log(predictions) + (1 - Y) * np.log(1 - predictions))\n",
    "    return cost\n",
    "\n",
    "def gradient_descent(X, Y, theta, alpha, iterations):\n",
    "    m = len(Y)\n",
    "    for _ in range(iterations):\n",
    "        predictions = sigmoid(X @ theta)\n",
    "        gradients = (1/m) * X.T @ (predictions - Y)\n",
    "        theta -= alpha * gradients\n",
    "    return theta"
   ]
  },
  {
   "cell_type": "code",
   "execution_count": null,
   "metadata": {},
   "outputs": [],
   "source": [
    "df=pd.read_excel('./Wine_Dataset.xlsx')\n",
    "X=df.iloc[:, :12].values\n",
    "Y=df.iloc[:,12].values\n",
    "X = np.hstack((np.ones((X.shape[0], 1)), X))\n",
    "\n",
    "theta = np.zeros(X.shape[1])\n",
    "alpha = 0.01  \n",
    "iterations = 1000  \n",
    "\n",
    "theta = gradient_descent(X, Y, theta, alpha, iterations)\n",
    "\n",
    "def predict(X, theta):\n",
    "    predictions = sigmoid(X @ theta)\n",
    "    return np.round(predictions)\n",
    "\n",
    "input_data = np.array([12.52, 2.43, 2.17, 21, 88, 2.55, 2.27, 0.26, 1.22, 2, 0.9, R / 10])\n",
    "input_data = np.hstack((np.ones(1), input_data))  \n",
    "\n",
    "predicted_class = predict(input_data.reshape(1, -1), theta)\n",
    "print(f\"Predicted Alcohol Class: {int(predicted_class[0])}\")"
   ]
  },
  {
   "cell_type": "markdown",
   "metadata": {},
   "source": [
    "#### Question4\n"
   ]
  },
  {
   "cell_type": "code",
   "execution_count": null,
   "metadata": {},
   "outputs": [],
   "source": [
    "df=pd.read_excel(\"./train.xlsx\")\n",
    "# print(df)\n",
    "X = df.iloc[:, :11].values   \n",
    "Y = df.iloc[:,11].values\n",
    "# print(X)\n",
    "# print(Y)\n",
    "X = np.hstack((np.ones((X.shape[0], 1)), X))\n",
    "theta = np.linalg.inv(X.T @ X) @ X.T @ Y\n",
    "input_data = np.array([15, 502932, 874387, r + 5, 51547, 2, 1, 9, 146, 60, 107])\n",
    "input_data = np.hstack((np.ones(1), input_data))  \n",
    "predicted_price = input_data @ theta\n",
    "print(f\"Predicted Price: {predicted_price}\")\n"
   ]
  },
  {
   "cell_type": "markdown",
   "metadata": {},
   "source": [
    "#### Question 5\n"
   ]
  },
  {
   "cell_type": "code",
   "execution_count": null,
   "metadata": {},
   "outputs": [],
   "source": [
    "df=pd.read_excel(\"./Mastercard_stock_history.xlsx\")\n",
    "# print(df)\n",
    "X = df.iloc[:, :4].values   \n",
    "Y = df.iloc[:,4].values\n",
    "# print(X)\n",
    "# print(Y)\n",
    "X = np.hstack((np.ones((X.shape[0], 1)), X))\n",
    "theta = np.linalg.inv(X.T @ X) @ X.T @ Y\n",
    "input_data = np.array([4+r/10, 4.228054432, 4.074560744,4.212239742])\n",
    "input_data = np.hstack((np.ones(1), input_data))  \n",
    "predicted_volume = input_data @ theta\n",
    "print(f\"Predicted Volume: {predicted_volume}\")\n"
   ]
  },
  {
   "cell_type": "markdown",
   "metadata": {},
   "source": [
    "#### Question 6\n"
   ]
  },
  {
   "cell_type": "code",
   "execution_count": null,
   "metadata": {},
   "outputs": [],
   "source": [
    "data = pd.read_excel('./Automobile.xlsx')\n",
    "# data.head()\n",
    "data.fillna(data.mean(), inplace=True)\n",
    "x = data.iloc[:,1:]\n",
    "y = data.iloc[:,0]\n",
    "A = np.column_stack((np.ones(x.shape[0]), x))\n",
    "\n",
    "A_T = A.T\n",
    "A_T_A = np.dot(A_T, A)\n",
    "A_T_y = np.dot(A_T, y)\n",
    "\n",
    "def sum(rollNumber):\n",
    "    total = 0\n",
    "    for digit in str(rollNumber):\n",
    "        total += int(digit)\n",
    "    return total\n",
    "\n",
    "\n",
    "coeffs = np.dot(np.linalg.inv(A_T_A), A_T_y)\n",
    "x = [sum(R), 125, 119, W*50, r+12]\n",
    "y = coeffs[0] + np.dot(coeffs[1:], x)\n",
    "print(\"predicted mpg:\",y)"
   ]
  },
  {
   "cell_type": "markdown",
   "metadata": {},
   "source": [
    "#### Question 7\n"
   ]
  },
  {
   "cell_type": "markdown",
   "metadata": {},
   "source": [
    "#### Implementation\n",
    "\n",
    "##### deaths/10 = log(cases/100 \\* x+y)\n",
    "\n",
    "##### z=death/10\n",
    "\n",
    "##### c=cases/100\n",
    "\n",
    "##### z=log(cx+y)\n",
    "\n",
    "##### exp(z)=cx+y\n",
    "\n",
    "##### log_exp= C\\*x + y\n"
   ]
  },
  {
   "cell_type": "code",
   "execution_count": null,
   "metadata": {},
   "outputs": [],
   "source": [
    "df=pd.read_csv(\"./covid.csv\")\n",
    "# print(df)\n",
    "# print(df.isnull().sum())\n",
    "\n",
    "mean_value_death =round(df['Deaths '].mean())\n",
    "mean_value_cases=round(df['Cases '].mean())\n",
    "# print(mean_value_death)\n",
    "# print(mean_value_cases)\n",
    "\n",
    "df['Deaths '].fillna(mean_value_death,inplace=True)\n",
    "df['Cases '].fillna(mean_value_cases,inplace=True)\n",
    "# print(df.isnull().sum())\n",
    "# print(np.isfinite(df).all())\n",
    "X = df.iloc[:,0].values   \n",
    "Y = df.iloc[:,1].values\n",
    "# # print(X)\n",
    "# # print(Y)\n",
    "C = X / 100\n",
    "log_exp = np.exp(Y / 10)\n",
    "\n",
    "A = np.vstack((C, np.ones(len(C)))).T\n",
    "x, y = np.linalg.lstsq(A, log_exp, rcond=None)[0]\n",
    "cases_india = 3264\n",
    "C_india = cases_india / 100\n",
    "\n",
    "predicted_log_exp_india = C_india * x + y\n",
    "predicted_deaths_india = np.log(predicted_log_exp_india) * 10\n",
    "\n",
    "print(f\"Predicted Deaths for India: {predicted_deaths_india}\")"
   ]
  },
  {
   "cell_type": "markdown",
   "metadata": {},
   "source": [
    "#### Question 8\n"
   ]
  },
  {
   "cell_type": "code",
   "execution_count": null,
   "metadata": {},
   "outputs": [],
   "source": [
    "df=pd.read_csv('./Census data (Chandigarh).csv')\n",
    "\n",
    "years = df['Year'].values\n",
    "populations = df['Persons'].values\n",
    "\n",
    "log_populations = np.log(populations)\n",
    "X = np.vstack((years, np.ones(len(years)))).T\n",
    "y = log_populations\n",
    "theta = np.linalg.lstsq(X, y, rcond=None)[0]\n",
    "\n",
    "year_to_predict = 2021\n",
    "X_new = np.array([year_to_predict, 1]).reshape(1, -1)\n",
    "log_predicted_population = X_new @ theta\n",
    "\n",
    "\n",
    "predicted_population = np.exp(log_predicted_population)\n",
    "\n",
    "print(f\"Predicted Population of Chandigarh in 2021: {predicted_population[0]:,.0f}\")\n"
   ]
  }
 ],
 "metadata": {
  "kernelspec": {
   "display_name": "omllabs",
   "language": "python",
   "name": "python3"
  },
  "language_info": {
   "codemirror_mode": {
    "name": "ipython",
    "version": 3
   },
   "file_extension": ".py",
   "mimetype": "text/x-python",
   "name": "python",
   "nbconvert_exporter": "python",
   "pygments_lexer": "ipython3",
   "version": "3.11.9"
  }
 },
 "nbformat": 4,
 "nbformat_minor": 2
}
