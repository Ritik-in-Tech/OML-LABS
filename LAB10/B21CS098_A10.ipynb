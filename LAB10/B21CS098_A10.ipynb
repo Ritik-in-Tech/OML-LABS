{
 "cells": [
  {
   "cell_type": "markdown",
   "metadata": {},
   "source": [
    "#### Question 1\n"
   ]
  },
  {
   "cell_type": "code",
   "execution_count": 9,
   "metadata": {},
   "outputs": [
    {
     "name": "stdout",
     "output_type": "stream",
     "text": [
      "Optimal solution x: [0.33333333 0.33333333 0.33333333]\n",
      "Optimal Lagrange multiplier mu: 1.6666666666666665\n",
      "Iterations: 2\n"
     ]
    }
   ],
   "source": [
    "import numpy as np\n",
    "\n",
    "tolerance = 1e-6  \n",
    "max_iterations = 100  \n",
    "x = np.array([0.0, 0.0, 0.0])  \n",
    "mu = 1.0  \n",
    "\n",
    "def grad_f(x):\n",
    "    return np.array([x[0] - 2, x[1] - 2, x[2] - 2])\n",
    "\n",
    "H_f = np.eye(3)\n",
    "grad_g = np.array([1.0, 1.0, 1.0])\n",
    "\n",
    "def g(x):\n",
    "    return np.sum(x) - 1\n",
    "\n",
    "for iteration in range(max_iterations):\n",
    "    grad_L = grad_f(x) + mu * grad_g  \n",
    "    residual = np.append(grad_L, g(x))\n",
    "    \n",
    "    if np.linalg.norm(residual) < tolerance:\n",
    "        break\n",
    "\n",
    "    KKT_matrix = np.block([[H_f, grad_g.reshape(-1, 1)], [grad_g.reshape(1, -1), 0]])\n",
    "    rhs = -residual\n",
    "\n",
    "    solution = np.linalg.solve(KKT_matrix, rhs)\n",
    "    delta_x = solution[:3]\n",
    "    delta_mu = solution[3]\n",
    "\n",
    "    x += delta_x\n",
    "    mu += delta_mu\n",
    "\n",
    "print(\"Optimal solution x:\", x)\n",
    "print(\"Optimal Lagrange multiplier mu:\", mu)\n",
    "print(\"Iterations:\", iteration + 1)\n"
   ]
  },
  {
   "cell_type": "markdown",
   "metadata": {},
   "source": [
    "#### Question 2\n"
   ]
  },
  {
   "cell_type": "code",
   "execution_count": 10,
   "metadata": {},
   "outputs": [
    {
     "name": "stdout",
     "output_type": "stream",
     "text": [
      "Optimal solution x: [0.56790351 0.32440141 0.10769508]\n",
      "Optimal Lagrange multiplier mu: 1.2928497364652278\n",
      "Iterations: 7\n"
     ]
    }
   ],
   "source": [
    "import numpy as np\n",
    "\n",
    "tolerance = 1e-6  \n",
    "max_iterations = 100  \n",
    "x = np.array([0.0, 0.0, 0.0])  \n",
    "mu = 1.0  \n",
    "\n",
    "def f(x):\n",
    "    return 100 * ((x[2] - x[1]**2)**2 + (x[1] - x[0]**2)**2) + ((1 - x[0])**2 + (1 - x[1])**2 + (1 - x[2])**2)\n",
    "\n",
    "def grad_f(x):\n",
    "    return np.array([\n",
    "        -400 * x[0] * (x[1] - x[0]**2) - 2 * (1 - x[0]),\n",
    "        200 * (x[1] - x[0]**2) - 400 * x[1] * (x[2] - x[1]**2) - 2 * (1 - x[1]),\n",
    "        200 * (x[2] - x[1]**2) - 2 * (1 - x[2])\n",
    "    ])\n",
    "\n",
    "def hessian_f(x):\n",
    "    return np.array([\n",
    "        [-400 * (x[1] - 3 * x[0]**2) + 2, -400 * x[0], 0],\n",
    "        [-400 * x[0], 200 - 400 * (x[2] - 3 * x[1]**2) + 2, -400 * x[1]],\n",
    "        [0, -400 * x[1], 200 + 2]\n",
    "    ])\n",
    "\n",
    "grad_g = np.array([1.0, 1.0, 1.0])\n",
    "\n",
    "def g(x):\n",
    "    return np.sum(x) - 1\n",
    "\n",
    "for iteration in range(max_iterations):\n",
    "    grad_L = grad_f(x) + mu * grad_g  \n",
    "    residual = np.append(grad_L, g(x))\n",
    "    \n",
    "    if np.linalg.norm(residual) < tolerance:\n",
    "        break\n",
    "\n",
    "    KKT_matrix = np.block([[hessian_f(x), grad_g.reshape(-1, 1)], [grad_g.reshape(1, -1), 0]])\n",
    "    rhs = -residual\n",
    "\n",
    "    solution = np.linalg.solve(KKT_matrix, rhs)\n",
    "    delta_x = solution[:3]\n",
    "    delta_mu = solution[3]\n",
    "\n",
    "    x += delta_x\n",
    "    mu += delta_mu\n",
    "\n",
    "print(\"Optimal solution x:\", x)\n",
    "print(\"Optimal Lagrange multiplier mu:\", mu)\n",
    "print(\"Iterations:\", iteration + 1)\n"
   ]
  },
  {
   "cell_type": "markdown",
   "metadata": {},
   "source": [
    "### Question 3\n"
   ]
  },
  {
   "cell_type": "code",
   "execution_count": 11,
   "metadata": {},
   "outputs": [
    {
     "name": "stdout",
     "output_type": "stream",
     "text": [
      "Optimal solution x : [2 0]\n",
      "Objective value at optimal solution: 4\n",
      "KKT multipliers : [2 0 2]\n"
     ]
    },
    {
     "name": "stderr",
     "output_type": "stream",
     "text": [
      "C:\\Users\\HP\\AppData\\Local\\Temp\\ipykernel_27276\\4122262666.py:22: RuntimeWarning: invalid value encountered in log\n",
      "  b1 = -np.log(constraint1(x) + epsilon)\n",
      "C:\\Users\\HP\\AppData\\Local\\Temp\\ipykernel_27276\\4122262666.py:24: RuntimeWarning: invalid value encountered in log\n",
      "  b3 = -np.log(constraint3(x) + epsilon)\n"
     ]
    }
   ],
   "source": [
    "import numpy as np\n",
    "from scipy.optimize import minimize\n",
    "\n",
    " \n",
    "def objective(x):\n",
    "    x1, x2 = x\n",
    "    return 2 * x1**2 + 2 * x1 * x2 + 3 * x2**2 - 2 * x1 + 3 * x2\n",
    "\n",
    " \n",
    "def constraint1(x):\n",
    "    return 3 * x[0] + 2 * x[1] - 6  \n",
    "\n",
    "def constraint2(x):\n",
    "    return x[0]   \n",
    "\n",
    "def constraint3(x):\n",
    "    return x[1]  \n",
    "\n",
    " \n",
    "def barrier(x, sigma):\n",
    "    epsilon = 1e-8\n",
    "    b1 = -np.log(constraint1(x) + epsilon)\n",
    "    b2 = -np.log(constraint2(x) + epsilon)\n",
    "    b3 = -np.log(constraint3(x) + epsilon)\n",
    "    return objective(x) + sigma * (b1 + b2 + b3)\n",
    "\n",
    " \n",
    "sigma = 1.0   \n",
    "r = 0.5   \n",
    "tolerance = 1e-4   \n",
    "\n",
    " \n",
    "x0 = np.array([2.0, 0.5])\n",
    "\n",
    " \n",
    "while sigma > tolerance:\n",
    "    result = minimize(barrier, x0, args=(sigma,), method='Nelder-Mead')\n",
    "    x0 = result.x\n",
    "    sigma *= r\n",
    "\n",
    " \n",
    "x_opt = result.x\n",
    "grad_f = np.array([4 * x_opt[0] + 2 * x_opt[1] - 2, 2 * x_opt[0] + 6 * x_opt[1] + 3])\n",
    "A = np.array([[3, 2], [1, 0], [0, 1]])\n",
    "b = grad_f\n",
    "lambdas = np.linalg.lstsq(A.T, b, rcond=None)[0]\n",
    "\n",
    " \n",
    "lambdas_rounded = np.round(lambdas).astype(int)\n",
    "lambdas_rounded[lambdas_rounded < 0] = 0  \n",
    "\n",
    " \n",
    "x_opt_rounded = np.round(x_opt).astype(int)\n",
    "objective_value_rounded = round(objective(x_opt))\n",
    "\n",
    "print(\"Optimal solution x :\", x_opt_rounded)\n",
    "print(\"Objective value at optimal solution:\", objective_value_rounded)\n",
    "print(\"KKT multipliers :\", lambdas_rounded)\n"
   ]
  },
  {
   "cell_type": "markdown",
   "metadata": {},
   "source": [
    "### Question 4\n"
   ]
  },
  {
   "cell_type": "code",
   "execution_count": 12,
   "metadata": {},
   "outputs": [],
   "source": [
    "import pandas as pd"
   ]
  },
  {
   "cell_type": "markdown",
   "metadata": {},
   "source": [
    "#### Implementation of dual svm and prima svm"
   ]
  },
  {
   "cell_type": "code",
   "execution_count": 13,
   "metadata": {},
   "outputs": [],
   "source": [
    "from sklearn.svm import SVC\n",
    "from sklearn.svm import LinearSVC\n",
    "from sklearn.preprocessing import StandardScaler\n",
    "from sklearn.pipeline import make_pipeline\n",
    "from sklearn.metrics import accuracy_score\n",
    "\n",
    "def dual_svm(X, y, kernel='linear', C=1.0):\n",
    "    model = make_pipeline(StandardScaler(), SVC(kernel=kernel, C=C, max_iter=1000))\n",
    "    model.fit(X, y)\n",
    "    return model\n",
    "\n",
    "def primal_svm(X, y):\n",
    "    model = make_pipeline(StandardScaler(), LinearSVC(dual=False, max_iter=1000))\n",
    "    model.fit(X, y)\n",
    "    return model"
   ]
  },
  {
   "cell_type": "markdown",
   "metadata": {},
   "source": [
    "### Dataset 1 'Diabetes.csv'"
   ]
  },
  {
   "cell_type": "code",
   "execution_count": 14,
   "metadata": {},
   "outputs": [
    {
     "name": "stdout",
     "output_type": "stream",
     "text": [
      " Primal SVM Accuracy: 0.7825520833333334\n",
      " Dual SVM Accuracy: 0.7721354166666666\n"
     ]
    },
    {
     "name": "stderr",
     "output_type": "stream",
     "text": [
      "d:\\Anaconda\\envs\\omllabs\\Lib\\site-packages\\sklearn\\svm\\_base.py:297: ConvergenceWarning: Solver terminated early (max_iter=1000).  Consider pre-processing your data with StandardScaler or MinMaxScaler.\n",
      "  warnings.warn(\n"
     ]
    }
   ],
   "source": [
    "data=pd.read_csv('diabetes.csv')\n",
    "x=data.iloc[:,:-1]\n",
    "y=data.iloc[:,-1]\n",
    "model = primal_svm(x, y)\n",
    "y_pred = model.predict(x)\n",
    "print(f\" Primal SVM Accuracy:\", accuracy_score(y, y_pred))\n",
    "\n",
    "model = dual_svm(x, y, kernel='linear')\n",
    "y_pred = model.predict(x)\n",
    "print(f\" Dual SVM Accuracy:\", accuracy_score(y, y_pred))"
   ]
  },
  {
   "cell_type": "markdown",
   "metadata": {},
   "source": [
    "### Dataset 2 'generated_test.csv'"
   ]
  },
  {
   "cell_type": "code",
   "execution_count": 15,
   "metadata": {},
   "outputs": [
    {
     "name": "stdout",
     "output_type": "stream",
     "text": [
      "Primal Predicted outcome: 1\n"
     ]
    },
    {
     "name": "stderr",
     "output_type": "stream",
     "text": [
      "d:\\Anaconda\\envs\\omllabs\\Lib\\site-packages\\sklearn\\base.py:493: UserWarning: X does not have valid feature names, but StandardScaler was fitted with feature names\n",
      "  warnings.warn(\n"
     ]
    },
    {
     "name": "stdout",
     "output_type": "stream",
     "text": [
      "Dual Predicted outcome: 1\n"
     ]
    },
    {
     "name": "stderr",
     "output_type": "stream",
     "text": [
      "d:\\Anaconda\\envs\\omllabs\\Lib\\site-packages\\sklearn\\base.py:493: UserWarning: X does not have valid feature names, but StandardScaler was fitted with feature names\n",
      "  warnings.warn(\n"
     ]
    }
   ],
   "source": [
    "data=pd.read_csv('generated_test.csv')\n",
    "data\n",
    "x=data.iloc[:-1,:-1]\n",
    "y=data.iloc[:-1,-1]\n",
    "model = primal_svm(x, y)\n",
    "new_data = np.array([[3, 23 / 10]])\n",
    "\n",
    "predicted_outcome = model.predict(new_data)\n",
    "\n",
    "print(\"Primal Predicted outcome:\", predicted_outcome[0])\n",
    "\n",
    "model = dual_svm(x, y, kernel='linear')\n",
    "y_pred = model.predict(new_data)\n",
    "print(\"Dual Predicted outcome:\", predicted_outcome[0])"
   ]
  },
  {
   "cell_type": "markdown",
   "metadata": {},
   "source": [
    "### Dataset 3 '4ColumnDa4ColumnDataset.csv'"
   ]
  },
  {
   "cell_type": "code",
   "execution_count": 16,
   "metadata": {},
   "outputs": [
    {
     "name": "stdout",
     "output_type": "stream",
     "text": [
      " Primal SVM Accuracy: 1.0\n",
      " Dual SVM Accuracy: 1.0\n"
     ]
    }
   ],
   "source": [
    "data=pd.read_csv('./4ColumnDa4ColumnDataset.csv')\n",
    "x=data.iloc[:,:-1]\n",
    "y=data.iloc[:,-1]\n",
    "model = primal_svm(x, y)\n",
    "y_pred = model.predict(x)\n",
    "print(f\" Primal SVM Accuracy:\", accuracy_score(y, y_pred))\n",
    "\n",
    "model = dual_svm(x, y, kernel='linear')\n",
    "y_pred = model.predict(x)\n",
    "print(f\" Dual SVM Accuracy:\", accuracy_score(y, y_pred))"
   ]
  }
 ],
 "metadata": {
  "kernelspec": {
   "display_name": "omllabs",
   "language": "python",
   "name": "python3"
  },
  "language_info": {
   "codemirror_mode": {
    "name": "ipython",
    "version": 3
   },
   "file_extension": ".py",
   "mimetype": "text/x-python",
   "name": "python",
   "nbconvert_exporter": "python",
   "pygments_lexer": "ipython3",
   "version": "3.11.9"
  }
 },
 "nbformat": 4,
 "nbformat_minor": 2
}
