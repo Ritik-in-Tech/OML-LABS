{
 "cells": [
  {
   "cell_type": "markdown",
   "metadata": {},
   "source": [
    "### important library imports\n"
   ]
  },
  {
   "cell_type": "code",
   "execution_count": 14,
   "metadata": {},
   "outputs": [],
   "source": [
    "import numpy as np\n",
    "import pandas as pd"
   ]
  },
  {
   "cell_type": "markdown",
   "metadata": {},
   "source": [
    "### Helper function to check linear independence\n"
   ]
  },
  {
   "cell_type": "code",
   "execution_count": 16,
   "metadata": {},
   "outputs": [],
   "source": [
    "def check_linear_independence(matrix):\n",
    "    rank = np.linalg.matrix_rank(matrix)\n",
    "    num_columns = matrix.shape[1]\n",
    "    if rank == num_columns:\n",
    "        return True\n",
    "    else:\n",
    "        return False"
   ]
  },
  {
   "cell_type": "markdown",
   "metadata": {},
   "source": [
    "### Question 1 (part a)\n"
   ]
  },
  {
   "cell_type": "code",
   "execution_count": 17,
   "metadata": {},
   "outputs": [
    {
     "name": "stdout",
     "output_type": "stream",
     "text": [
      "Column vectors are linearly independent\n"
     ]
    }
   ],
   "source": [
    "R=98\n",
    "matrix=np.array([\n",
    "    [2,3,1,-2],\n",
    "    [4,1,1,-5],\n",
    "    [6,-1,1,-9],\n",
    "    [2,3,1,R/10],\n",
    "    [9,8,1,-11],\n",
    "    [-3,11,1,-13]\n",
    "])\n",
    "\n",
    "if check_linear_independence(matrix):\n",
    "    print(\"Column vectors are linearly independent\")\n",
    "else:\n",
    "    print(\"Column vectors are linearly dependent\")"
   ]
  },
  {
   "cell_type": "markdown",
   "metadata": {},
   "source": [
    "### Helper function to check the linear independence from the csv files given\n"
   ]
  },
  {
   "cell_type": "code",
   "execution_count": 28,
   "metadata": {},
   "outputs": [],
   "source": [
    "def check_linear_independence_from_csv(file_path):\n",
    "    if file_path.endswith('.csv'):\n",
    "        df = pd.read_csv(file_path)\n",
    "    else:\n",
    "        df = pd.read_excel(file_path)\n",
    "    matrix = df.to_numpy()\n",
    "    ans=check_linear_independence(matrix)\n",
    "    return ans"
   ]
  },
  {
   "cell_type": "markdown",
   "metadata": {},
   "source": [
    "### Question 1 (part b)\n"
   ]
  },
  {
   "cell_type": "code",
   "execution_count": 37,
   "metadata": {},
   "outputs": [
    {
     "name": "stdout",
     "output_type": "stream",
     "text": [
      "Column vectors are linearly independent.\n"
     ]
    }
   ],
   "source": [
    "file_path=\"./A1.csv\"\n",
    "if check_linear_independence_from_csv(file_path):\n",
    "    print(\"Column vectors are linearly independent.\")\n",
    "else:\n",
    "    print(\"The column vectors are linearly dependent.\")"
   ]
  },
  {
   "cell_type": "markdown",
   "metadata": {},
   "source": [
    "### Question 1 (part c)\n"
   ]
  },
  {
   "cell_type": "code",
   "execution_count": 36,
   "metadata": {},
   "outputs": [
    {
     "name": "stdout",
     "output_type": "stream",
     "text": [
      "The column vectors are linearly dependent.\n"
     ]
    }
   ],
   "source": [
    "file_path=\"./A2.xlsx\"\n",
    "if check_linear_independence_from_csv(file_path):\n",
    "    print(\"Column vectors are linearly independent.\")\n",
    "else:\n",
    "    print(\"The column vectors are linearly dependent.\")"
   ]
  },
  {
   "cell_type": "markdown",
   "metadata": {},
   "source": [
    "### Question 1 (part d)\n"
   ]
  },
  {
   "cell_type": "code",
   "execution_count": 35,
   "metadata": {},
   "outputs": [
    {
     "name": "stdout",
     "output_type": "stream",
     "text": [
      "Column vectors are linearly independent.\n"
     ]
    }
   ],
   "source": [
    "file_path=(\"./A3.csv\")\n",
    "if check_linear_independence_from_csv(file_path):\n",
    "    print(\"Column vectors are linearly independent.\")\n",
    "else:\n",
    "    print(\"The column vectors are linearly dependent.\")"
   ]
  },
  {
   "cell_type": "markdown",
   "metadata": {},
   "source": [
    "### Helper function to solve the minimization problem of question 2\n"
   ]
  },
  {
   "cell_type": "code",
   "execution_count": 39,
   "metadata": {},
   "outputs": [],
   "source": [
    "def solve_least_squares(A,b):\n",
    "    # Solve the normal equation A^T A x = A^T b\n",
    "    ATA = np.dot(A.T, A)\n",
    "    ATb = np.dot(A.T, b)\n",
    "    \n",
    "    # Solve for x\n",
    "    x = np.linalg.solve(ATA, ATb)\n",
    "    return x\n"
   ]
  },
  {
   "cell_type": "markdown",
   "metadata": {},
   "source": [
    "### Question 2 (part 1)\n"
   ]
  },
  {
   "cell_type": "code",
   "execution_count": 44,
   "metadata": {},
   "outputs": [
    {
     "name": "stdout",
     "output_type": "stream",
     "text": [
      "The solution x is: [1.5        0.04166667]\n"
     ]
    }
   ],
   "source": [
    "r = 8\n",
    "A = np.array([[1, r], [2, r], [3, r]])\n",
    "b = np.array([2, 3, 5])\n",
    "x_solution = solve_least_squares(A,b)\n",
    "print(\"The solution x is:\", x_solution)"
   ]
  },
  {
   "cell_type": "markdown",
   "metadata": {},
   "source": [
    "### Question 2 (part 2)\n"
   ]
  },
  {
   "cell_type": "code",
   "execution_count": 47,
   "metadata": {},
   "outputs": [
    {
     "name": "stdout",
     "output_type": "stream",
     "text": [
      "The solution x is: [ 0.09758073  0.07937675 -0.20750339  0.0177993   0.02326679  0.10409313]\n"
     ]
    }
   ],
   "source": [
    "df=pd.read_csv(\"./Ab1.csv\")\n",
    "A=df.iloc[:,:-1].values\n",
    "b=df.iloc[:,-1]\n",
    "# print(A)\n",
    "x_solution=solve_least_squares(A,b)\n",
    "print(\"The solution x is:\", x_solution)"
   ]
  },
  {
   "cell_type": "markdown",
   "metadata": {},
   "source": [
    "### Question 2 (part 3)\n"
   ]
  },
  {
   "cell_type": "code",
   "execution_count": 48,
   "metadata": {},
   "outputs": [],
   "source": [
    "df=pd.read_csv(\"./Ab2.csv\")\n",
    "A=df.iloc[:,:-1].values\n",
    "b=df.iloc[:,-1]\n",
    "x_solution=solve_least_squares(A,b)\n",
    "print(\"The solution x is:\", x_solution)"
   ]
  },
  {
   "cell_type": "markdown",
   "metadata": {},
   "source": [
    "### Question 2 (part 4)\n"
   ]
  },
  {
   "cell_type": "markdown",
   "metadata": {},
   "source": [
    "df=pd.read_csv(\"./Ab3.csv\")\n",
    "A=df.iloc[:,:-1].values\n",
    "b=df.iloc[:,-1]\n",
    "x_solution=solve_least_squares(A,b)\n",
    "print(\"The solution x is:\", x_solution)"
   ]
  }
 ],
 "metadata": {
  "kernelspec": {
   "display_name": "omllabs",
   "language": "python",
   "name": "python3"
  },
  "language_info": {
   "codemirror_mode": {
    "name": "ipython",
    "version": 3
   },
   "file_extension": ".py",
   "mimetype": "text/x-python",
   "name": "python",
   "nbconvert_exporter": "python",
   "pygments_lexer": "ipython3",
   "version": "3.11.9"
  }
 },
 "nbformat": 4,
 "nbformat_minor": 2
}
