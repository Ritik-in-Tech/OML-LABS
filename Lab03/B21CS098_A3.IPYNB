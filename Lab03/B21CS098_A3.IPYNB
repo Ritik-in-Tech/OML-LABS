{
 "cells": [
  {
   "cell_type": "markdown",
   "metadata": {},
   "source": [
    "### important library imports\n"
   ]
  },
  {
   "cell_type": "code",
   "execution_count": 206,
   "metadata": {},
   "outputs": [],
   "source": [
    "import numpy as np\n",
    "import pandas as pd\n",
    "from cvxopt import solvers"
   ]
  },
  {
   "cell_type": "markdown",
   "metadata": {},
   "source": [
    "### Helper function to check linear independence\n"
   ]
  },
  {
   "cell_type": "code",
   "execution_count": 207,
   "metadata": {},
   "outputs": [],
   "source": [
    "def check_linear_independence(matrix):\n",
    "    rank = np.linalg.matrix_rank(matrix)\n",
    "    num_columns = matrix.shape[1]\n",
    "    if rank == num_columns:\n",
    "        return True\n",
    "    else:\n",
    "        return False"
   ]
  },
  {
   "cell_type": "markdown",
   "metadata": {},
   "source": [
    "### Question 1 (part a)\n"
   ]
  },
  {
   "cell_type": "code",
   "execution_count": 208,
   "metadata": {},
   "outputs": [
    {
     "name": "stdout",
     "output_type": "stream",
     "text": [
      "Column vectors are linearly independent\n"
     ]
    }
   ],
   "source": [
    "R=98\n",
    "matrix=np.array([\n",
    "    [2,3,1,-2],\n",
    "    [4,1,1,-5],\n",
    "    [6,-1,1,-9],\n",
    "    [2,3,1,R/10],\n",
    "    [9,8,1,-11],\n",
    "    [-3,11,1,-13]\n",
    "])\n",
    "\n",
    "if check_linear_independence(matrix):\n",
    "    print(\"Column vectors are linearly independent\")\n",
    "else:\n",
    "    print(\"Column vectors are linearly dependent\")"
   ]
  },
  {
   "cell_type": "markdown",
   "metadata": {},
   "source": [
    "### Helper function to check the linear independence from the csv files given\n"
   ]
  },
  {
   "cell_type": "code",
   "execution_count": 209,
   "metadata": {},
   "outputs": [],
   "source": [
    "def check_linear_independence_from_csv(file_path):\n",
    "    if file_path.endswith('.csv'):\n",
    "        df = pd.read_csv(file_path)\n",
    "    else:\n",
    "        df = pd.read_excel(file_path)\n",
    "    matrix = df.to_numpy()\n",
    "    ans=check_linear_independence(matrix)\n",
    "    return ans"
   ]
  },
  {
   "cell_type": "markdown",
   "metadata": {},
   "source": [
    "### Question 1 (part b)\n"
   ]
  },
  {
   "cell_type": "code",
   "execution_count": 210,
   "metadata": {},
   "outputs": [
    {
     "name": "stdout",
     "output_type": "stream",
     "text": [
      "Column vectors are linearly independent.\n"
     ]
    }
   ],
   "source": [
    "file_path=\"./A1.csv\"\n",
    "if check_linear_independence_from_csv(file_path):\n",
    "    print(\"Column vectors are linearly independent.\")\n",
    "else:\n",
    "    print(\"The column vectors are linearly dependent.\")"
   ]
  },
  {
   "cell_type": "markdown",
   "metadata": {},
   "source": [
    "### Question 1 (part c)\n"
   ]
  },
  {
   "cell_type": "code",
   "execution_count": 211,
   "metadata": {},
   "outputs": [
    {
     "name": "stdout",
     "output_type": "stream",
     "text": [
      "The column vectors are linearly independent\n"
     ]
    }
   ],
   "source": [
    "data = pd.read_csv(\"./A2.csv\")\n",
    "A2 = data.to_numpy()\n",
    "det = np.linalg.det(np.dot(A2.transpose(),A2))\n",
    "# print(\"det =\",det)\n",
    "if(det>1e-5):\n",
    "  print(\"The column vectors are linearly independent\")\n",
    "else:\n",
    "  print(\"The column vectors are linearly dependent\")"
   ]
  },
  {
   "cell_type": "markdown",
   "metadata": {},
   "source": [
    "### Question 1 (part d)\n"
   ]
  },
  {
   "cell_type": "code",
   "execution_count": 212,
   "metadata": {},
   "outputs": [
    {
     "name": "stdout",
     "output_type": "stream",
     "text": [
      "Column vectors are linearly independent.\n"
     ]
    }
   ],
   "source": [
    "file_path=(\"./A3.csv\")\n",
    "if check_linear_independence_from_csv(file_path):\n",
    "    print(\"Column vectors are linearly independent.\")\n",
    "else:\n",
    "    print(\"The column vectors are linearly dependent.\")"
   ]
  },
  {
   "cell_type": "markdown",
   "metadata": {},
   "source": [
    "### Helper function to solve the minimization problem of question 2\n"
   ]
  },
  {
   "cell_type": "code",
   "execution_count": 213,
   "metadata": {},
   "outputs": [],
   "source": [
    "def solve_least_squares(A, b):\n",
    "    # Solve the normal equation A^T A x = A^T b\n",
    "    ATA = np.dot(A.T, A)\n",
    "    ATb = np.dot(A.T, b)\n",
    "    \n",
    "    try:\n",
    "        x = np.linalg.solve(ATA, ATb)\n",
    "        return x\n",
    "    except np.linalg.LinAlgError:\n",
    "        return \"Matrix is singular, solution cannot be found.\"\n"
   ]
  },
  {
   "cell_type": "markdown",
   "metadata": {},
   "source": [
    "### Question 2 (part 1)\n"
   ]
  },
  {
   "cell_type": "code",
   "execution_count": 214,
   "metadata": {},
   "outputs": [
    {
     "name": "stdout",
     "output_type": "stream",
     "text": [
      "The solution x is: [1.5        0.04166667]\n"
     ]
    }
   ],
   "source": [
    "r = 8\n",
    "A = np.array([[1, r], [2, r], [3, r]])\n",
    "b = np.array([2, 3, 5])\n",
    "x_solution = solve_least_squares(A,b)\n",
    "print(\"The solution x is:\", x_solution)"
   ]
  },
  {
   "cell_type": "markdown",
   "metadata": {},
   "source": [
    "### Question 2 (part 2)\n"
   ]
  },
  {
   "cell_type": "code",
   "execution_count": 215,
   "metadata": {},
   "outputs": [
    {
     "name": "stdout",
     "output_type": "stream",
     "text": [
      "The solution x is: [ 0.09758073  0.07937675 -0.20750339  0.0177993   0.02326679  0.10409313]\n"
     ]
    }
   ],
   "source": [
    "df=pd.read_csv(\"./Ab1.csv\")\n",
    "A=df.iloc[:,:-1].values\n",
    "b=df.iloc[:,-1].values\n",
    "x_solution=solve_least_squares(A,b)\n",
    "print(\"The solution x is:\", x_solution)"
   ]
  },
  {
   "cell_type": "markdown",
   "metadata": {},
   "source": [
    "### Question 2 (part 3)\n"
   ]
  },
  {
   "cell_type": "code",
   "execution_count": 216,
   "metadata": {},
   "outputs": [
    {
     "name": "stdout",
     "output_type": "stream",
     "text": [
      "The solution x is: [-1.63811270e-04  2.89695365e-02  6.74896163e-05 -2.73905797e+00\n",
      "  1.18426193e+01  9.80662976e-01]\n"
     ]
    }
   ],
   "source": [
    "df=pd.read_csv(\"./Ab2.csv\")\n",
    "A = df.iloc[:, 0:6].values  \n",
    "b = df.iloc[:, 6].values\n",
    "x_solution=solve_least_squares(A,b)\n",
    "print(\"The solution x is:\", x_solution)"
   ]
  },
  {
   "cell_type": "markdown",
   "metadata": {},
   "source": [
    "### Question 2 (part 4)\n"
   ]
  },
  {
   "cell_type": "code",
   "execution_count": 217,
   "metadata": {},
   "outputs": [
    {
     "name": "stdout",
     "output_type": "stream",
     "text": [
      "The solution x is: Matrix is singular, solution cannot be found.\n"
     ]
    }
   ],
   "source": [
    "df=pd.read_csv(\"./Ab3.csv\")\n",
    "A=df.iloc[:,:-1].values\n",
    "b=df.iloc[:,-1].values\n",
    "x_solution=solve_least_squares(A,b)\n",
    "# print(x_solution)\n",
    "print(\"The solution x is:\", x_solution)"
   ]
  },
  {
   "cell_type": "markdown",
   "metadata": {},
   "source": [
    "### Question 3\n"
   ]
  },
  {
   "cell_type": "code",
   "execution_count": 218,
   "metadata": {},
   "outputs": [
    {
     "name": "stdout",
     "output_type": "stream",
     "text": [
      "Optimal x1: 1.9999985636388935\n",
      "Optimal x2: 2.9999985743886457\n",
      "Final value of the objective function: 12.999997138023446\n"
     ]
    }
   ],
   "source": [
    "from cvxopt import matrix\n",
    "P = matrix([[2.0, 0.0], [0.0, 2.0]])\n",
    "q = matrix([-5.0, -7.0])\n",
    "G = matrix([[4.0, 4.0, -1.0, 0.0], [1.0, 4.0, 0.0, -1.0]])\n",
    "h = matrix([20.0, 20.0, 0.0, 0.0])\n",
    "solution = solvers.qp(P, q, G, h)\n",
    "x1 = solution['x'][0]\n",
    "x2 = solution['x'][1]\n",
    "print(f\"Optimal x1: {x1}\")\n",
    "print(f\"Optimal x2: {x2}\")\n",
    "objective_value = -x1**2 + 5*x1 - x2**2 + 7*x2 - 5\n",
    "print(f\"Final value of the objective function: {objective_value}\")"
   ]
  },
  {
   "cell_type": "markdown",
   "metadata": {},
   "source": [
    "### Question 4\n"
   ]
  },
  {
   "cell_type": "code",
   "execution_count": 219,
   "metadata": {},
   "outputs": [
    {
     "name": "stdout",
     "output_type": "stream",
     "text": [
      "Optimal x1: 0.49999999466246287\n",
      "Optimal x2: 7.250000666919907\n",
      "Final value of the objective function: 7.3750006642511385\n"
     ]
    }
   ],
   "source": [
    "P = matrix([[1.0, 0.0], [0.0, 0.0]])\n",
    "q = matrix([0.0, 1.0])\n",
    "G = matrix([[-1.0, 2.0, 3.0], [-2.0, 5.0, 4.0]])\n",
    "h = matrix([-15.0, 100.0, 80.0])\n",
    "solution = solvers.qp(P, q, G, h)\n",
    "x1 = solution['x'][0]\n",
    "x2 = solution['x'][1]\n",
    "print(f\"Optimal x1: {x1}\")\n",
    "print(f\"Optimal x2: {x2}\")\n",
    "objective_value = 0.5 * x1**2 + x2\n",
    "print(f\"Final value of the objective function: {objective_value}\")"
   ]
  },
  {
   "cell_type": "markdown",
   "metadata": {},
   "source": [
    "### Question 5 (part 1)\n"
   ]
  },
  {
   "cell_type": "code",
   "execution_count": 220,
   "metadata": {},
   "outputs": [
    {
     "name": "stdout",
     "output_type": "stream",
     "text": [
      "Optimal x: [[ 0.09758073]\n",
      " [ 0.07937675]\n",
      " [-0.20750338]\n",
      " [ 0.01779929]\n",
      " [ 0.02326679]\n",
      " [ 0.10409313]]\n",
      "Final value of the objective function: [[-734994.26329581]]\n"
     ]
    }
   ],
   "source": [
    "file_path = './Ab1.csv'\n",
    "data = pd.read_csv(file_path, header=None, skiprows=1).values\n",
    "A = data[:, :-1]\n",
    "b = data[:, -1]\n",
    "R = 98.0\n",
    "P = matrix(A.T @ A)\n",
    "q = matrix(-A.T @ b)\n",
    "G = matrix(np.ones((1, A.shape[1])))\n",
    "h = matrix([R])\n",
    "solution = solvers.qp(P, q, G, h)\n",
    "\n",
    "\n",
    "x_optimal = np.array(solution['x'])\n",
    "\n",
    "\n",
    "print(f\"Optimal x: {x_optimal}\")\n",
    "\n",
    "objective_value = 0.5 * x_optimal.T @ (A.T @ A) @ x_optimal + (-A.T @ b).T @ x_optimal\n",
    "print(f\"Final value of the objective function: {objective_value}\")"
   ]
  },
  {
   "cell_type": "markdown",
   "metadata": {},
   "source": [
    "### Question 5 (part 2)\n"
   ]
  },
  {
   "cell_type": "code",
   "execution_count": 221,
   "metadata": {},
   "outputs": [
    {
     "name": "stdout",
     "output_type": "stream",
     "text": [
      "Optimal x: [[-1.62252683e-04]\n",
      " [ 2.90292799e-02]\n",
      " [ 6.70017030e-05]\n",
      " [-2.70027637e+00]\n",
      " [ 1.18930489e+01]\n",
      " [ 9.80400655e-01]]\n",
      "Final value of the objective function: [[-2.87599527e+09]]\n"
     ]
    }
   ],
   "source": [
    "file_path = './Ab2.csv'\n",
    "data = pd.read_csv(file_path, header=None).values\n",
    "A = data[1:, :6].astype(float)\n",
    "b = data[1:, 6].astype(float)\n",
    "P = matrix(A.T @ A)\n",
    "q = matrix(-A.T @ b)\n",
    "G = matrix(np.ones((1, A.shape[1])))\n",
    "h = matrix([R])\n",
    "solution = solvers.qp(P, q, G, h)\n",
    "x_optimal = np.array(solution['x'])\n",
    "print(f\"Optimal x: {x_optimal}\")\n",
    "objective_value = 0.5 * x_optimal.T @ (A.T @ A) @ x_optimal + (-A.T @ b).T @ x_optimal\n",
    "print(f\"Final value of the objective function: {objective_value}\")"
   ]
  }
 ],
 "metadata": {
  "kernelspec": {
   "display_name": "omllabs",
   "language": "python",
   "name": "python3"
  },
  "language_info": {
   "codemirror_mode": {
    "name": "ipython",
    "version": 3
   },
   "file_extension": ".py",
   "mimetype": "text/x-python",
   "name": "python",
   "nbconvert_exporter": "python",
   "pygments_lexer": "ipython3",
   "version": "3.11.9"
  }
 },
 "nbformat": 4,
 "nbformat_minor": 2
}
