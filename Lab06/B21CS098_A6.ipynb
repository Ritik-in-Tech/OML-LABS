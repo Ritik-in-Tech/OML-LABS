{
 "cells": [
  {
   "cell_type": "code",
   "execution_count": 42,
   "metadata": {},
   "outputs": [],
   "source": [
    "import numpy as np\n",
    "import pandas as pd"
   ]
  },
  {
   "cell_type": "code",
   "execution_count": 45,
   "metadata": {},
   "outputs": [],
   "source": [
    "data=pd.read_csv(\"./diabetes2.csv\")\n",
    "X = data.drop('Outcome', axis=1).values\n",
    "y = data['Outcome'].values * 2 - 1 \n",
    "\n",
    "X = (X - X.mean(axis=0)) / X.std(axis=0)  # Normalize features\n",
    "X = np.hstack((np.ones((X.shape[0], 1)), X))  # Add bias term\n"
   ]
  },
  {
   "cell_type": "code",
   "execution_count": 46,
   "metadata": {},
   "outputs": [],
   "source": [
    "def p(a, x):\n",
    "    return 1 / (1 + np.exp(-np.dot(a, x)))"
   ]
  },
  {
   "cell_type": "code",
   "execution_count": 47,
   "metadata": {},
   "outputs": [],
   "source": [
    "def loss(X, y, w):\n",
    "    return -np.sum(\n",
    "        np.where(y == 1, np.log(p(w, X.T)), np.log(1 - p(w, X.T)))\n",
    "    )"
   ]
  },
  {
   "cell_type": "code",
   "execution_count": 48,
   "metadata": {},
   "outputs": [],
   "source": [
    "def gradient(X, y, w):\n",
    "    pred = p(w, X.T)\n",
    "    return -X.T.dot(y - pred)"
   ]
  },
  {
   "cell_type": "code",
   "execution_count": 49,
   "metadata": {},
   "outputs": [],
   "source": [
    "# Gradient Descent with Inexact Line Search\n",
    "def gradient_descent(X, y, max_iter=1000, tol=1e-6):\n",
    "    w = np.zeros(X.shape[1])\n",
    "    \n",
    "    for i in range(max_iter):\n",
    "        grad = gradient(X, y, w)\n",
    "        if np.linalg.norm(grad) < tol:\n",
    "            break\n",
    "        \n",
    "        # Backtracking line search\n",
    "        alpha = 1.0\n",
    "        beta = 0.5\n",
    "        c = 0.1\n",
    "        while loss(X, y, w - alpha * grad) > loss(X, y, w) - c * alpha * np.dot(grad, grad):\n",
    "            alpha *= beta\n",
    "        \n",
    "        w -= alpha * grad\n",
    "    \n",
    "    return w\n"
   ]
  },
  {
   "cell_type": "code",
   "execution_count": 50,
   "metadata": {},
   "outputs": [],
   "source": [
    "# Mirror Descent\n",
    "def mirror_descent(X, y, Q, max_iter=10000, tol=1e-6):\n",
    "    w = np.zeros(X.shape[1])\n",
    "    theta = np.zeros(X.shape[1])\n",
    "    for i in range(max_iter):\n",
    "        grad = gradient(X, y, w)\n",
    "        if np.linalg.norm(grad) < tol:\n",
    "            break\n",
    "        \n",
    "        theta -= Q.dot(grad)\n",
    "        w = np.linalg.solve(Q, theta)\n",
    "    return w\n"
   ]
  },
  {
   "cell_type": "code",
   "execution_count": 51,
   "metadata": {},
   "outputs": [],
   "source": [
    "# Construct Q matrix\n",
    "n_features = X.shape[1]\n",
    "Q = np.diag(np.random.uniform(0, 10, n_features))\n",
    "Q[np.triu_indices(n_features, 1)] = np.random.uniform(0, 1, (n_features * (n_features - 1)) // 2)\n",
    "Q = (Q + Q.T) / 2  # Make symmetric"
   ]
  },
  {
   "cell_type": "code",
   "execution_count": 52,
   "metadata": {},
   "outputs": [
    {
     "name": "stderr",
     "output_type": "stream",
     "text": [
      "C:\\Users\\HP\\AppData\\Local\\Temp\\ipykernel_30532\\3531335829.py:2: RuntimeWarning: overflow encountered in exp\n",
      "  return 1 / (1 + np.exp(-np.dot(a, x)))\n",
      "C:\\Users\\HP\\AppData\\Local\\Temp\\ipykernel_30532\\2226549035.py:3: RuntimeWarning: divide by zero encountered in log\n",
      "  np.where(y == 1, np.log(p(w, X.T)), np.log(1 - p(w, X.T)))\n"
     ]
    },
    {
     "name": "stdout",
     "output_type": "stream",
     "text": [
      "Gradient Descent weights: [-1.203125    0.31729711  0.66717514  0.0930427   0.10688988  0.18667343\n",
      "  0.41853062  0.2485835   0.34083053]\n"
     ]
    }
   ],
   "source": [
    "w_gd=gradient_descent(X,y)\n",
    "print(\"Gradient Descent weights:\", w_gd)"
   ]
  },
  {
   "cell_type": "code",
   "execution_count": 53,
   "metadata": {},
   "outputs": [
    {
     "name": "stderr",
     "output_type": "stream",
     "text": [
      "C:\\Users\\HP\\AppData\\Local\\Temp\\ipykernel_30532\\3531335829.py:2: RuntimeWarning: overflow encountered in exp\n",
      "  return 1 / (1 + np.exp(-np.dot(a, x)))\n"
     ]
    },
    {
     "name": "stdout",
     "output_type": "stream",
     "text": [
      "Mirror Descent weights: [-3507043.36389206   774007.16761818  1794909.25409977   -30619.7002288\n",
      "    80522.6021505    242766.20594596  1233096.76351494   522962.13473405\n",
      "   799128.75262708]\n"
     ]
    }
   ],
   "source": [
    "w_md=mirror_descent(X,y,Q)\n",
    "print(\"Mirror Descent weights:\", w_md)"
   ]
  },
  {
   "cell_type": "code",
   "execution_count": 41,
   "metadata": {},
   "outputs": [
    {
     "name": "stdout",
     "output_type": "stream",
     "text": [
      "Gradient Descent accuracy: 0.6940104166666666\n",
      "Mirror Descent accuracy: 0.6953125\n"
     ]
    },
    {
     "name": "stderr",
     "output_type": "stream",
     "text": [
      "C:\\Users\\HP\\AppData\\Local\\Temp\\ipykernel_30532\\3196251242.py:2: RuntimeWarning: overflow encountered in exp\n",
      "  return 1 / (1 + np.exp(-z))\n"
     ]
    }
   ],
   "source": [
    "# Evaluate models\n",
    "def accuracy(X, y, w):\n",
    "    return np.mean((sigmoid(X.dot(w)) >= 0.5) == y)\n",
    "\n",
    "print(\"Gradient Descent accuracy:\", accuracy(X, y, w_gd))\n",
    "print(\"Mirror Descent accuracy:\", accuracy(X, y, w_md))"
   ]
  },
  {
   "cell_type": "code",
   "execution_count": 55,
   "metadata": {},
   "outputs": [
    {
     "name": "stderr",
     "output_type": "stream",
     "text": [
      "C:\\Users\\HP\\AppData\\Local\\Temp\\ipykernel_30532\\740857915.py:12: RuntimeWarning: overflow encountered in exp\n",
      "  return 1 / (1 + np.exp(-np.dot(a, x)))\n",
      "C:\\Users\\HP\\AppData\\Local\\Temp\\ipykernel_30532\\740857915.py:16: RuntimeWarning: divide by zero encountered in log\n",
      "  np.where(y == 1, np.log(p(w, X.T)), np.log(1 - p(w, X.T)))\n"
     ]
    },
    {
     "name": "stdout",
     "output_type": "stream",
     "text": [
      "Gradient Descent weights: [-1.203125    0.31729711  0.66717514  0.0930427   0.10688988  0.18667343\n",
      "  0.41853062  0.2485835   0.34083053]\n",
      "Mirror Descent weights: [-350968.96477502   77464.47385853  179615.46173951   -3033.16131793\n",
      "    8077.21001815   24295.05185938  123392.10759004   52361.48443743\n",
      "   79977.24804499]\n",
      "Gradient Descent accuracy: 0.7434895833333334\n",
      "Mirror Descent accuracy: 0.7434895833333334\n"
     ]
    }
   ],
   "source": [
    "import numpy as np\n",
    "import pandas as pd\n",
    "\n",
    "# Load the data\n",
    "data = pd.read_csv(\"./diabetes2.csv\")\n",
    "X = data.drop('Outcome', axis=1).values\n",
    "y = data['Outcome'].values * 2 - 1  # Convert to {-1, 1}\n",
    "X = (X - X.mean(axis=0)) / X.std(axis=0)  # Normalize features\n",
    "X = np.hstack((np.ones((X.shape[0], 1)), X))  # Add bias term\n",
    "\n",
    "def p(a, x):\n",
    "    return 1 / (1 + np.exp(-np.dot(a, x)))\n",
    "\n",
    "def loss(X, y, w):\n",
    "    return -np.sum(\n",
    "        np.where(y == 1, np.log(p(w, X.T)), np.log(1 - p(w, X.T)))\n",
    "    )\n",
    "\n",
    "def gradient(X, y, w):\n",
    "    pred = p(w, X.T)\n",
    "    return -X.T.dot(y - pred)\n",
    "\n",
    "# Gradient Descent with Custom Inexact Line Search\n",
    "def gradient_descent(X, y, max_iter=1000, tol=1e-6):\n",
    "    w = np.zeros(X.shape[1])\n",
    "    \n",
    "    for i in range(max_iter):\n",
    "        grad = gradient(X, y, w)\n",
    "        if np.linalg.norm(grad) < tol:\n",
    "            break\n",
    "        \n",
    "        # Backtracking line search\n",
    "        alpha = 1.0\n",
    "        beta = 0.5\n",
    "        c = 0.1\n",
    "        while loss(X, y, w - alpha * grad) > loss(X, y, w) - c * alpha * np.dot(grad, grad):\n",
    "            alpha *= beta\n",
    "        \n",
    "        w -= alpha * grad\n",
    "    \n",
    "    return w\n",
    "\n",
    "# Mirror Descent\n",
    "def mirror_descent(X, y, Q, max_iter=1000, tol=1e-6):\n",
    "    w = np.zeros(X.shape[1])\n",
    "    theta = np.zeros(X.shape[1])\n",
    "    for i in range(max_iter):\n",
    "        grad = gradient(X, y, w)\n",
    "        if np.linalg.norm(grad) < tol:\n",
    "            break\n",
    "        \n",
    "        theta -= Q.dot(grad)\n",
    "        w = np.linalg.solve(Q, theta)\n",
    "    return w\n",
    "\n",
    "# Construct Q matrix\n",
    "n_features = X.shape[1]\n",
    "Q = np.diag(np.random.uniform(0, 10, n_features))\n",
    "Q[np.triu_indices(n_features, 1)] = np.random.uniform(0, 1, (n_features * (n_features - 1)) // 2)\n",
    "Q = (Q + Q.T) / 2  # Make symmetric\n",
    "\n",
    "# Run both methods\n",
    "w_gd = gradient_descent(X, y)\n",
    "w_md = mirror_descent(X, y, Q)\n",
    "\n",
    "print(\"Gradient Descent weights:\", w_gd)\n",
    "print(\"Mirror Descent weights:\", w_md)\n",
    "\n",
    "# Evaluate models\n",
    "def accuracy(X, y, w):\n",
    "    return np.mean((p(w, X.T) >= 0.5) == (y == 1))\n",
    "\n",
    "print(\"Gradient Descent accuracy:\", accuracy(X, y, w_gd))\n",
    "print(\"Mirror Descent accuracy:\", accuracy(X, y, w_md))"
   ]
  }
 ],
 "metadata": {
  "kernelspec": {
   "display_name": "omllabs",
   "language": "python",
   "name": "python3"
  },
  "language_info": {
   "codemirror_mode": {
    "name": "ipython",
    "version": 3
   },
   "file_extension": ".py",
   "mimetype": "text/x-python",
   "name": "python",
   "nbconvert_exporter": "python",
   "pygments_lexer": "ipython3",
   "version": "3.11.9"
  }
 },
 "nbformat": 4,
 "nbformat_minor": 2
}
